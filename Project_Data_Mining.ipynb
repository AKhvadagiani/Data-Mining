{
 "cells": [
  {
   "cell_type": "markdown",
   "metadata": {},
   "source": [
    "# Data Mining"
   ]
  },
  {
   "cell_type": "markdown",
   "metadata": {},
   "source": [
    "<p style=\"background-color:#D8BFD8; color: #333333; font-size: 200%; text-align: left; padding-left: 20px;\">Story:</p>\n"
   ]
  },
  {
   "cell_type": "markdown",
   "metadata": {},
   "source": [
    "As a data scientist at ABC company, a non-profit organization dedicated to promoting the dissemination of free knowledge and supporting collaborative platforms like Wikipedia, I have been tasked with optimizing the administrator election process on Wikipedia. Administrators play a vital role in maintaining the integrity and quality of Wikipedia, and it is essential to identify users who are likely to become successful administrators efficiently. \n",
    "\n",
    "In this context, the project aims to analyze the voting patterns and network structure of Wikipedia's administrator elections. By leveraging graph analysis and edge prediction techniques, the goal is to predict potential future successful adminship candidates and streamline the election process. This will help Wikipedia ensure that qualified users are identified and promoted more efficiently, thereby enhancing the platform's maintenance and user experience.\n",
    "\n",
    "The experiment begins with data collection and preparation, utilizing the latest complete dump of Wikipedia page edit history from January 3, 2008. The data is structured into a graph where nodes represent Wikipedia users and directed edges represent votes. Key graph metrics such as clustering coefficient, number of triangles, diameter, and effective diameter are calculated. The distribution of nodes and edges in the largest weakly connected component (WCC) and strongly connected component (SCC) is analyzed to identify patterns and characteristics of successful vs. unsuccessful administrator elections. The role of existing administrators in the voting process is also examined.\n",
    "\n",
    "Next, feature engineering is conducted to create features based on user activity, voting patterns, and graph metrics. These features include the number of votes received, voting history, and the user's centrality in the network. The data is then split into training and validation sets, and edge prediction models are trained using techniques like logistic regression, random forests, SVM. The models are evaluated based on accuracy, precision, recall, and F1-score.\n",
    "\n",
    "Once the models are trained, they are applied to predict potential successful candidates for future administrator elections. A list of top candidates is generated based on prediction scores, and the prediction system is integrated with Wikipedia's adminship request process. Feedback from the Wikipedia community is collected to refine and improve the model.\n",
    "\n",
    "**The expected value of this project includes streamlining the administrator election process by identifying promising candidates early, thereby reducing the time and effort required for community discussions and votes. It ensures that qualified and capable users are promoted to administrators, enhancing Wikipedia's maintenance and user experience. Additionally, the project builds trust within the Wikipedia community by making the adminship process more transparent and data-driven, encouraging more users to participate, knowing that it is fair and efficient.**\n",
    "\n",
    "By utilizing graph analysis and edge prediction, ABC aims to enhance Wikipedia's administrator election process. This project supports the efficiency and quality of Wikipedia's administration and fosters a more robust and trustworthy community, aligning with ABC's mission of promoting free knowledge and collaboration."
   ]
  },
  {
   "cell_type": "markdown",
   "metadata": {},
   "source": [
    "<p style=\"background-color:#D8BFD8; color: #333333; font-size: 200%; text-align: left; padding-left: 20px;\">The Data:</p>\n"
   ]
  },
  {
   "cell_type": "markdown",
   "metadata": {},
   "source": [
    "### Source: https://snap.stanford.edu/data/wiki-Vote.html"
   ]
  },
  {
   "cell_type": "markdown",
   "metadata": {},
   "source": [
    "Wikipedia is a free encyclopedia collaboratively written by volunteers worldwide. A small segment of Wikipedia contributors serve as administrators, users with additional technical features for site maintenance. To become an administrator, a user must issue a Request for Adminship (RfA), which the Wikipedia community then discusses or votes on to decide who gets promoted. Utilizing the latest complete dump of Wikipedia page edit history from January 3, 2008, all administrator elections and vote history data were extracted, resulting in a dataset of 2,794 elections with 103,663 total votes and 7,066 users participating in the elections (either casting a vote or being voted on). Among these, 1,235 elections led to successful promotions, while 1,559 did not. Approximately half of the votes in the dataset are from existing administrators, with the other half coming from ordinary Wikipedia users.\n",
    "\n",
    "**In this network, nodes represent Wikipedia users, and a directed edge from node i to node j signifies that user i voted on user j.**"
   ]
  },
  {
   "cell_type": "markdown",
   "metadata": {},
   "source": [
    "\n",
    "**Dataset statistics:**\n",
    "\n",
    "Nodes:\t7115\n",
    "\n",
    "Edges:\t103689\n",
    "\n",
    "Nodes in largest WCC:\t7066 (0.993)\n",
    "\n",
    "Edges in largest WCC:\t103663 (1.000)\n",
    "\n",
    "Nodes in largest SCC:\t1300 (0.183)\n",
    "\n",
    "Edges in largest SCC:\t39456 (0.381)\n",
    "\n",
    "Average clustering coefficient:\t0.1409\n",
    "\n",
    "Number of triangles:\t608389\n",
    "\n",
    "Fraction of closed triangles:\t0.04564\n",
    "\n",
    "Diameter (longest shortest path):\t7\n",
    "\n",
    "90-percentile effective diameter:\t3.8"
   ]
  },
  {
   "cell_type": "markdown",
   "metadata": {},
   "source": [
    "The dataset is suitable for this project as it effectively captures the directed voting relationships between Wikipedia users. This structure allows for the construction of a user interaction network, where nodes represent users and directed edges indicate votes cast from one user to another. This setup is ideal for graph analysis and edge prediction tasks, enabling the exploration of voting patterns and the identification of potential future successful administrator candidates."
   ]
  },
  {
   "cell_type": "markdown",
   "metadata": {},
   "source": [
    "<p style=\"background-color:#D8BFD8; color: #333333; font-size: 200%; text-align: left; padding-left: 20px;\">IDA:</p>\n"
   ]
  },
  {
   "cell_type": "markdown",
   "metadata": {},
   "source": [
    "**Libraries:**"
   ]
  },
  {
   "cell_type": "code",
   "execution_count": 1,
   "metadata": {},
   "outputs": [],
   "source": [
    "import pandas as pd\n",
    "import networkx as nx\n",
    "import warnings\n",
    "import matplotlib.pyplot as plt\n",
    "import matplotlib.pyplot as plt\n",
    "import numpy as np\n",
    "import pandas as pd\n",
    "import matplotlib.pyplot as plt"
   ]
  },
  {
   "cell_type": "markdown",
   "metadata": {},
   "source": [
    "**Dataset:**"
   ]
  },
  {
   "cell_type": "code",
   "execution_count": 2,
   "metadata": {},
   "outputs": [
    {
     "data": {
      "text/plain": [
       "(103689, 2)"
      ]
     },
     "execution_count": 2,
     "metadata": {},
     "output_type": "execute_result"
    }
   ],
   "source": [
    "df = pd.read_csv('Wiki-Vote.txt', delimiter='\\t')\n",
    "df.shape"
   ]
  },
  {
   "cell_type": "code",
   "execution_count": 3,
   "metadata": {},
   "outputs": [
    {
     "data": {
      "text/html": [
       "<div>\n",
       "<style scoped>\n",
       "    .dataframe tbody tr th:only-of-type {\n",
       "        vertical-align: middle;\n",
       "    }\n",
       "\n",
       "    .dataframe tbody tr th {\n",
       "        vertical-align: top;\n",
       "    }\n",
       "\n",
       "    .dataframe thead th {\n",
       "        text-align: right;\n",
       "    }\n",
       "</style>\n",
       "<table border=\"1\" class=\"dataframe\">\n",
       "  <thead>\n",
       "    <tr style=\"text-align: right;\">\n",
       "      <th></th>\n",
       "      <th>FromNodeId</th>\n",
       "      <th>ToNodeId</th>\n",
       "    </tr>\n",
       "  </thead>\n",
       "  <tbody>\n",
       "    <tr>\n",
       "      <th>0</th>\n",
       "      <td>30</td>\n",
       "      <td>1412</td>\n",
       "    </tr>\n",
       "    <tr>\n",
       "      <th>1</th>\n",
       "      <td>30</td>\n",
       "      <td>3352</td>\n",
       "    </tr>\n",
       "    <tr>\n",
       "      <th>2</th>\n",
       "      <td>30</td>\n",
       "      <td>5254</td>\n",
       "    </tr>\n",
       "    <tr>\n",
       "      <th>3</th>\n",
       "      <td>30</td>\n",
       "      <td>5543</td>\n",
       "    </tr>\n",
       "    <tr>\n",
       "      <th>4</th>\n",
       "      <td>30</td>\n",
       "      <td>7478</td>\n",
       "    </tr>\n",
       "  </tbody>\n",
       "</table>\n",
       "</div>"
      ],
      "text/plain": [
       "   FromNodeId  ToNodeId\n",
       "0          30      1412\n",
       "1          30      3352\n",
       "2          30      5254\n",
       "3          30      5543\n",
       "4          30      7478"
      ]
     },
     "execution_count": 3,
     "metadata": {},
     "output_type": "execute_result"
    }
   ],
   "source": [
    "df.head()"
   ]
  },
  {
   "cell_type": "markdown",
   "metadata": {},
   "source": [
    "**Creating Graph**"
   ]
  },
  {
   "cell_type": "code",
   "execution_count": 4,
   "metadata": {},
   "outputs": [
    {
     "data": {
      "text/plain": [
       "'DiGraph with 7115 nodes and 103689 edges'"
      ]
     },
     "execution_count": 4,
     "metadata": {},
     "output_type": "execute_result"
    }
   ],
   "source": [
    "warnings.filterwarnings('ignore')\n",
    "\n",
    "# Create a directed graph\n",
    "G = nx.DiGraph()\n",
    "\n",
    "# Add edges from the DataFrame to the graph\n",
    "for index, row in df.iterrows():\n",
    "    G.add_edge(row['FromNodeId'], row['ToNodeId'])\n",
    "\n",
    "nx.info(G)"
   ]
  },
  {
   "cell_type": "markdown",
   "metadata": {},
   "source": [
    "**Primary overview of the graph:**"
   ]
  },
  {
   "cell_type": "code",
   "execution_count": 5,
   "metadata": {},
   "outputs": [
    {
     "data": {
      "image/png": "[encoded data removed]",
      "text/plain": [
       "<Figure size 640x480 with 1 Axes>"
      ]
     },
     "metadata": {},
     "output_type": "display_data"
    }
   ],
   "source": [
    "nx.draw(G, with_labels=False, node_size=10)\n",
    "plt.show()\n"
   ]
  },
  {
   "cell_type": "markdown",
   "metadata": {},
   "source": [
    "**Chart N1**"
   ]
  },
  {
   "cell_type": "code",
   "execution_count": 6,
   "metadata": {},
   "outputs": [
    {
     "data": {
      "image/png": "[encoded data removed]",
      "text/plain": [
       "<Figure size 1000x600 with 1 Axes>"
      ]
     },
     "metadata": {},
     "output_type": "display_data"
    },
    {
     "name": "stdout",
     "output_type": "stream",
     "text": [
      "Mean degree: 29.146591707659873\n",
      "Median degree: 4.0\n",
      "Maximum degree: 1167\n",
      "Minimum degree: 1\n",
      "Number of nodes: 7115\n",
      "Number of edges: 103689\n"
     ]
    }
   ],
   "source": [
    "\n",
    "# Calculate node degrees\n",
    "degrees = [deg for _, deg in G.degree()]\n",
    "\n",
    "plt.figure(figsize=(10, 6))\n",
    "plt.hist(degrees, bins=50, edgecolor='black')\n",
    "plt.title('Node Degree Distribution')\n",
    "plt.xlabel('Degree')\n",
    "plt.ylabel('Frequency')\n",
    "plt.grid(True)\n",
    "plt.show()\n",
    "\n",
    "# Statistical summary of degrees\n",
    "print(f\"Mean degree: {np.mean(degrees)}\")\n",
    "print(f\"Median degree: {np.median(degrees)}\")\n",
    "print(f\"Maximum degree: {np.max(degrees)}\")\n",
    "print(f\"Minimum degree: {np.min(degrees)}\")\n",
    "print(f\"Number of nodes: {len(degrees)}\")\n",
    "print(f\"Number of edges: {G.number_of_edges()}\")\n"
   ]
  },
  {
   "cell_type": "markdown",
   "metadata": {},
   "source": [
    "### The chart above  shows the frequency of nodes at various degrees within a network.\n",
    "\n",
    "- **Degree Frequency**: Most nodes have a degree less than 100, with a steep decline in frequency as the degree value increases.\n",
    "- **Notable Observations**: There's a significant drop after 0-50 degrees, and nodes with degrees over 200 are rare.\n",
    "\n",
    "### **Statistical features:**\n",
    "\n",
    "- Mean Degree: The average degree of nodes in network is approximately 29.15.\n",
    "- Median Degree: The median degree (where half of the nodes have degrees less than or equal to 4) is 4.\n",
    "- Maximum Degree: The highest degree observed is 1167.\n",
    "- Minimum Degree: The lowest degree is 1.\n",
    "- Number of Nodes: Network contains 7115 nodes.\n",
    "- Number of Edges: There are 103689 edges connecting these nodes."
   ]
  },
  {
   "cell_type": "markdown",
   "metadata": {},
   "source": [
    "**Chart N2**"
   ]
  },
  {
   "cell_type": "code",
   "execution_count": 7,
   "metadata": {},
   "outputs": [
    {
     "data": {
      "image/png": "[encoded data removed]",
      "text/plain": [
       "<Figure size 1000x600 with 1 Axes>"
      ]
     },
     "metadata": {},
     "output_type": "display_data"
    },
    {
     "name": "stdout",
     "output_type": "stream",
     "text": [
      "Top Nodes by Votes Received:\n",
      "ToNodeId\n",
      "4037    457\n",
      "15      361\n",
      "2398    340\n",
      "2625    331\n",
      "1297    309\n",
      "2565    274\n",
      "762     272\n",
      "2328    266\n",
      "5254    265\n",
      "3352    264\n",
      "Name: count, dtype: int64\n"
     ]
    }
   ],
   "source": [
    "# Count votes received by each node\n",
    "votes_received = df['ToNodeId'].value_counts()\n",
    "\n",
    "top_nodes = votes_received.head(10)  \n",
    "plt.figure(figsize=(10, 6))\n",
    "top_nodes.plot(kind='bar', edgecolor='black')\n",
    "plt.title('Top Nodes by Votes Received (Potential Leaders)')\n",
    "plt.xlabel('Node ID')\n",
    "plt.ylabel('Number of Votes Received')\n",
    "plt.xticks(rotation=45)\n",
    "plt.grid(axis='y')\n",
    "plt.tight_layout()\n",
    "plt.show()\n",
    "\n",
    "print(\"Top Nodes by Votes Received:\")\n",
    "print(top_nodes)\n"
   ]
  },
  {
   "cell_type": "markdown",
   "metadata": {},
   "source": [
    "### The chart represents the number of votes received by top 10 nodes, which are likely candidates for being key influencers or leaders within a network.\n",
    "\n",
    "- **Node ID 4037**: Received the most votes, around 460, indicating it might be the most influential or popular node followed by ID 15 and ID 2398."
   ]
  },
  {
   "cell_type": "markdown",
   "metadata": {},
   "source": [
    "<p style=\"background-color:#D8BFD8; color: #333333; font-size: 200%; text-align: left; padding-left: 20px;\">Graph Properties:</p>\n"
   ]
  },
  {
   "cell_type": "code",
   "execution_count": 8,
   "metadata": {},
   "outputs": [
    {
     "name": "stdout",
     "output_type": "stream",
     "text": [
      "Number of nodes: 7115\n",
      "Number of edges: 103689\n",
      "Graph density: 0.0020\n"
     ]
    }
   ],
   "source": [
    "G = nx.from_pandas_edgelist(df, 'FromNodeId', 'ToNodeId', create_using=nx.DiGraph())\n",
    "\n",
    "# Basic graph statistics\n",
    "num_nodes = G.number_of_nodes()\n",
    "num_edges = G.number_of_edges()\n",
    "density = nx.density(G)\n",
    "\n",
    "print(f\"Number of nodes: {num_nodes}\")\n",
    "print(f\"Number of edges: {num_edges}\")\n",
    "print(f\"Graph density: {density:.4f}\") #Density (how many edges are present compared to the total possible edges)\n"
   ]
  },
  {
   "cell_type": "markdown",
   "metadata": {},
   "source": [
    "- **Graph Density**: The density is 0.000204, a measure of how many edges are present compared to the total possible edges in the graph.\n",
    "\n",
    "A low density indicates a sparse graph, meaning that on average, nodes have few connections relative to the total number of nodes. This can be typical for large networks where not every node is connected to every other node.\n",
    "\n",
    "\n"
   ]
  },
  {
   "cell_type": "code",
   "execution_count": 9,
   "metadata": {},
   "outputs": [
    {
     "name": "stdout",
     "output_type": "stream",
     "text": [
      "Number of connected components: 24\n",
      "Size of the largest component: 7066\n",
      "Sizes of all components: [7066, 2, 2, 2, 2, 2, 2, 2, 2, 2, 2, 2, 2, 2, 2, 3, 2, 2, 3, 2, 2, 2, 2, 3]\n"
     ]
    }
   ],
   "source": [
    "# Connected components\n",
    "components = list(nx.weakly_connected_components(G))  # for directed graph\n",
    "largest_component = max(components, key=len)\n",
    "num_components = len(components)\n",
    "component_sizes = [len(c) for c in components]\n",
    "\n",
    "print(f\"Number of connected components: {num_components}\")\n",
    "print(f\"Size of the largest component: {len(largest_component)}\")\n",
    "print(f\"Sizes of all components: {component_sizes}\")\n"
   ]
  },
  {
   "cell_type": "markdown",
   "metadata": {},
   "source": [
    "- **Weakly Connected Components**: The result shows weakly connected components of a directed graph, which are maximal subgraphs where each node is reachable from every other node by ignoring the direction of edges.\n",
    "- **Largest Component**: It identifies the largest component by finding the one with the maximum number of nodes.\n",
    "- **Component Sizes**: The code creates a list of the sizes of all components, which represents the number of nodes in each component.\n",
    "- **Output Information**: The output indicates that there are 24 connected components, with the largest component containing 7066 nodes.\n",
    "\n",
    "This is useful for analyzing the structure of networks to understand the connectivity and clustering within the graph.\n",
    "Based on the result of the Wikipedia voting network, it highlights both cohesive community structures and smaller, more isolated groups of users.\n"
   ]
  },
  {
   "cell_type": "markdown",
   "metadata": {},
   "source": [
    "<p style=\"background-color:#D8BFD8; color: #333333; font-size: 200%; text-align: left; padding-left: 20px;\">Central Nodes:</p>\n"
   ]
  },
  {
   "cell_type": "code",
   "execution_count": 10,
   "metadata": {},
   "outputs": [
    {
     "name": "stdout",
     "output_type": "stream",
     "text": [
      "Top 5 nodes by degree centrality:\n",
      "Node 2565: Degree Centrality = 0.1640\n",
      "Node 1549: Degree Centrality = 0.1170\n",
      "Node 766: Degree Centrality = 0.1087\n",
      "Node 11: Degree Centrality = 0.1044\n",
      "Node 1166: Degree Centrality = 0.1044\n"
     ]
    }
   ],
   "source": [
    "# Degree centrality\n",
    "degree_centrality = nx.degree_centrality(G)\n",
    "sorted_degree_centrality = sorted(degree_centrality.items(), key=lambda x: x[1], reverse=True)\n",
    "print(\"Top 5 nodes by degree centrality:\")\n",
    "for node, centrality in sorted_degree_centrality[:5]:\n",
    "    print(f\"Node {node}: Degree Centrality = {centrality:.4f}\")\n"
   ]
  },
  {
   "cell_type": "markdown",
   "metadata": {},
   "source": [
    "The degree centrality values provided for the top 5 nodes indicate their prominence within the Wikipedia voting network. Node 2565 stands out with a degree centrality of 0.1640, suggesting it is the most connected node in the network, engaging in voting interactions with approximately 16.4% of all other nodes. This node likely plays a pivotal role in influencing voting outcomes and community decisions related to administrator elections. Following Node 2565, Node 1549 holds the second highest degree centrality at 0.1170, indicating significant connectivity and influence albeit to a lesser extent than Node 2565. Nodes 766, 11, and 1166 share similar degree centrality values around 0.1044, positioning them as key players in the network with substantial voting interactions and potential influence over community dynamics. These centrality metrics underscore the importance of these nodes in shaping consensus and decision-making processes within the Wikipedia community, highlighting their roles as influential contributors in administrator elections and beyond."
   ]
  },
  {
   "cell_type": "code",
   "execution_count": 11,
   "metadata": {},
   "outputs": [
    {
     "name": "stdout",
     "output_type": "stream",
     "text": [
      "Top 5 nodes by betweenness centrality:\n",
      "Node 2565: Betweenness Centrality = 0.0177\n",
      "Node 1549: Betweenness Centrality = 0.0166\n",
      "Node 15: Betweenness Centrality = 0.0116\n",
      "Node 72: Betweenness Centrality = 0.0080\n",
      "Node 737: Betweenness Centrality = 0.0061\n"
     ]
    }
   ],
   "source": [
    "# Betweenness centrality\n",
    "betweenness_centrality = nx.betweenness_centrality(G)\n",
    "sorted_betweenness_centrality = sorted(betweenness_centrality.items(), key=lambda x: x[1], reverse=True)\n",
    "print(\"Top 5 nodes by betweenness centrality:\")\n",
    "for node, centrality in sorted_betweenness_centrality[:5]:\n",
    "    print(f\"Node {node}: Betweenness Centrality = {centrality:.4f}\")\n"
   ]
  },
  {
   "cell_type": "markdown",
   "metadata": {},
   "source": [
    "The betweenness centrality values for the top 5 nodes provide insight into their importance as bridges or intermediaries within the Wikipedia voting network. Node 2565 leads with a betweenness centrality of 0.0177, indicating that it lies on approximately 1.77% of all shortest paths between pairs of nodes in the network. This node plays a crucial role in connecting different parts of the network and facilitating communication or influence flow between users. Similarly, Node 1549 follows closely with a betweenness centrality of 0.0166, highlighting its significant position in mediating interactions within the network.\n",
    "\n",
    "Node 15, with a betweenness centrality of 0.0116, and Nodes 72 and 737 with values of 0.0080 and 0.0061 respectively, also exhibit notable betweenness centrality. These nodes serve as important intermediaries or connectors in the network, contributing to the cohesion and efficiency of communication. Overall, higher betweenness centrality values signify nodes that are critical for maintaining efficient communication and information flow across the network, underscoring their strategic importance in the context of voting interactions and community dynamics on Wikipedia."
   ]
  },
  {
   "cell_type": "code",
   "execution_count": 12,
   "metadata": {},
   "outputs": [
    {
     "name": "stdout",
     "output_type": "stream",
     "text": [
      "Top 5 nodes by closeness centrality:\n",
      "Node 4037: Closeness Centrality = 0.2965\n",
      "Node 15: Closeness Centrality = 0.2915\n",
      "Node 2398: Closeness Centrality = 0.2909\n",
      "Node 1549: Closeness Centrality = 0.2819\n",
      "Node 2535: Closeness Centrality = 0.2799\n"
     ]
    }
   ],
   "source": [
    "# Closeness centrality\n",
    "closeness_centrality = nx.closeness_centrality(G)\n",
    "sorted_closeness_centrality = sorted(closeness_centrality.items(), key=lambda x: x[1], reverse=True)\n",
    "print(\"Top 5 nodes by closeness centrality:\")\n",
    "for node, centrality in sorted_closeness_centrality[:5]:\n",
    "    print(f\"Node {node}: Closeness Centrality = {centrality:.4f}\")\n"
   ]
  },
  {
   "cell_type": "markdown",
   "metadata": {},
   "source": [
    "The closeness centrality values for the top 5 nodes indicate their proximity to other nodes in the Wikipedia voting network, highlighting their efficiency in communication and influence diffusion.\n",
    "\n",
    "Node 4037 achieves the highest closeness centrality of 0.2965, signifying that it can reach other nodes in the network more quickly on average compared to other nodes. This node likely plays a central role in disseminating information or influencing voting behaviors efficiently across the community.\n",
    "\n",
    "Following Node 4037, Node 15 demonstrates a high closeness centrality of 0.2915, indicating its close proximity to other nodes in terms of shortest paths. This node is pivotal in maintaining rapid communication and interaction within the network.\n",
    "\n",
    "Nodes 2398, 1549, and 2535 also exhibit notable closeness centrality values ranging from 0.2799 to 0.2909. These nodes are similarly efficient in reaching other nodes quickly and are integral to maintaining connectivity and cohesion within the network."
   ]
  },
  {
   "cell_type": "code",
   "execution_count": 13,
   "metadata": {},
   "outputs": [
    {
     "name": "stdout",
     "output_type": "stream",
     "text": [
      "Average clustering coefficient: 0.1409\n"
     ]
    }
   ],
   "source": [
    "# Clustering coefficient\n",
    "clustering_coefficient = nx.average_clustering(G.to_undirected())\n",
    "print(f\"Average clustering coefficient: {clustering_coefficient:.4f}\")\n"
   ]
  },
  {
   "cell_type": "markdown",
   "metadata": {},
   "source": [
    "The average clustering coefficient of 0.1409 for the Wikipedia voting network provides insight into the level of clustering or interconnectedness among nodes in the network.\n",
    "\n",
    "Clustering coefficient measures the extent to which nodes in a graph tend to cluster together. A higher average clustering coefficient suggests that nodes in the network are more likely to form tightly knit groups with multiple connections among their neighbors. In the context of Wikipedia's voting network, an average clustering coefficient of 0.1409 indicates a moderate level of local clustering. This means that while there are cohesive groups of users who tend to vote similarly or interact closely with each other, the network also includes nodes that participate in less clustered or more dispersed patterns of voting behavior.\n",
    "\n",
    "Understanding the average clustering coefficient helps in assessing the community structure within the network. It provides valuable insights into how users are interconnected through their voting activities, which is crucial for analyzing community dynamics, identifying influential groups, and predicting behaviors within the Wikipedia administrator election process."
   ]
  },
  {
   "cell_type": "code",
   "execution_count": 14,
   "metadata": {},
   "outputs": [
    {
     "name": "stdout",
     "output_type": "stream",
     "text": [
      "Number of connected components: 24\n",
      "Number of nodes in the largest connected component: 7066\n",
      "Number of edges in the largest connected component: 103663\n"
     ]
    }
   ],
   "source": [
    "# Find all connected components\n",
    "connected_components = list(nx.connected_components(G.to_undirected()))\n",
    "\n",
    "# Sort connected components by size (number of nodes)\n",
    "connected_components = sorted(connected_components, key=len, reverse=True)\n",
    "\n",
    "# Extract the largest connected component\n",
    "largest_cc = connected_components[0]\n",
    "G_lcc = G.subgraph(largest_cc).copy()\n",
    "\n",
    "print(f\"Number of connected components: {len(connected_components)}\")\n",
    "print(f\"Number of nodes in the largest connected component: {G_lcc.number_of_nodes()}\")\n",
    "print(f\"Number of edges in the largest connected component: {G_lcc.number_of_edges()}\")\n"
   ]
  },
  {
   "cell_type": "markdown",
   "metadata": {},
   "source": [
    "The network statistics provided indicate the structural characteristics of the Wikipedia voting network:\n",
    "\n",
    "1. **Number of Connected Components**: There are 24 connected components in the network. Connected components are distinct subsets of nodes where each node is reachable from any other node within the subset. Having 24 components suggests that while the network has a cohesive core, there are also isolated groups of nodes that are not directly connected to the main component.\n",
    "\n",
    "2. **Largest Connected Component**: The largest connected component contains 7066 nodes. This component is significant as it represents the largest subset of nodes in the network where all nodes are interconnected either directly or indirectly through paths of edges.\n",
    "\n",
    "3. **Edges in the Largest Connected Component**: There are 103,663 edges within the largest connected component. This high number of edges indicates dense connectivity within the largest subset of nodes, reflecting extensive interactions and voting relationships among users.\n",
    "\n",
    "These statistics underscore the complex and interconnected nature of the Wikipedia voting network. The presence of multiple connected components suggests diverse community structures within the network, while the size and edge count of the largest component highlight its central role in facilitating widespread communication and influence among users. Understanding these structural attributes is crucial for analyzing voting dynamics, community behavior, and the overall resilience of the network."
   ]
  },
  {
   "cell_type": "code",
   "execution_count": 15,
   "metadata": {},
   "outputs": [
    {
     "name": "stdout",
     "output_type": "stream",
     "text": [
      "Assortativity coefficient: -0.0832\n"
     ]
    }
   ],
   "source": [
    "# Assortativity coefficient\n",
    "assortativity_coefficient = nx.degree_assortativity_coefficient(G)\n",
    "print(f\"Assortativity coefficient: {assortativity_coefficient:.4f}\")\n"
   ]
  },
  {
   "cell_type": "markdown",
   "metadata": {},
   "source": [
    "The assortativity coefficient of -0.0832 for the Wikipedia voting network indicates a slight tendency towards disassortativity in terms of node connectivity.\n",
    "\n",
    "A negative assortativity coefficient suggests that nodes with high degree (or connectivity) tend to connect with nodes of lower degree, and vice versa. In other words, there is a tendency for nodes with different levels of connectivity to interact, rather than nodes with similar connectivity levels forming tightly interconnected clusters.\n",
    "\n",
    "In the context of the Wikipedia voting network, a negative assortativity coefficient of -0.0832 indicates that highly connected nodes (nodes with many voting interactions) are not strongly inclined to connect preferentially with other highly connected nodes. Instead, they are more likely to interact with nodes that have fewer connections or are less central in the network."
   ]
  },
  {
   "cell_type": "code",
   "execution_count": 16,
   "metadata": {},
   "outputs": [
    {
     "name": "stdout",
     "output_type": "stream",
     "text": [
      "Top 5 nodes by eigenvector centrality:\n",
      "Node 2398: Eigenvector Centrality = 0.1172\n",
      "Node 4037: Eigenvector Centrality = 0.1090\n",
      "Node 15: Eigenvector Centrality = 0.0982\n",
      "Node 4191: Eigenvector Centrality = 0.0957\n",
      "Node 2625: Eigenvector Centrality = 0.0955\n"
     ]
    }
   ],
   "source": [
    "# Eigenvector centrality\n",
    "eigenvector_centrality = nx.eigenvector_centrality(G)\n",
    "sorted_eigenvector_centrality = sorted(eigenvector_centrality.items(), key=lambda x: x[1], reverse=True)\n",
    "print(\"Top 5 nodes by eigenvector centrality:\")\n",
    "for node, centrality in sorted_eigenvector_centrality[:5]:\n",
    "    print(f\"Node {node}: Eigenvector Centrality = {centrality:.4f}\")\n"
   ]
  },
  {
   "cell_type": "markdown",
   "metadata": {},
   "source": [
    "The eigenvector centrality values for the top 5 nodes provide insight into their importance and influence within the Wikipedia voting network:\n",
    "\n",
    "1. **Node 2398**: Leading with an eigenvector centrality of 0.1172, this node is identified as the most influential based on its connectivity to other highly connected nodes. Nodes with high eigenvector centrality are not only well-connected themselves but are also connected to other nodes that are similarly well-connected, thereby enhancing their influence in the network.\n",
    "\n",
    "2. **Node 4037**: Following closely with an eigenvector centrality of 0.1090, this node also plays a significant role in the network's structure. Its high centrality suggests it is well-positioned to influence and propagate information or behaviors throughout the network.\n",
    "\n",
    "3. **Node 15**: With an eigenvector centrality of 0.0982, this node ranks third among the top centrality nodes. It signifies strong connectivity and influence within the network, crucial for maintaining communication and cohesion among users.\n",
    "\n",
    "4. **Node 4191 and Node 2625**: These nodes have eigenvector centrality values of 0.0957 and 0.0955 respectively, indicating their substantial influence and connectivity within the network's hierarchy. They are pivotal in facilitating interactions and maintaining community dynamics.\n",
    "\n",
    "Eigenvector centrality identifies nodes that not only have many connections but are also connected to other influential nodes, enhancing their overall importance in spreading influence or information across the network. Understanding these centrality values is essential for identifying key players in decision-making processes, such as administrator elections on Wikipedia, and for predicting how changes or interventions might impact the network's dynamics."
   ]
  },
  {
   "cell_type": "code",
   "execution_count": 17,
   "metadata": {},
   "outputs": [
    {
     "name": "stdout",
     "output_type": "stream",
     "text": [
      "Top 5 nodes by PageRank:\n",
      "Node 4037: PageRank = 0.0046\n",
      "Node 15: PageRank = 0.0037\n",
      "Node 6634: PageRank = 0.0035\n",
      "Node 2625: PageRank = 0.0033\n",
      "Node 2398: PageRank = 0.0026\n"
     ]
    }
   ],
   "source": [
    "# PageRank\n",
    "pagerank = nx.pagerank(G)\n",
    "sorted_pagerank = sorted(pagerank.items(), key=lambda x: x[1], reverse=True)\n",
    "print(\"Top 5 nodes by PageRank:\")\n",
    "for node, rank in sorted_pagerank[:5]:\n",
    "    print(f\"Node {node}: PageRank = {rank:.4f}\")\n"
   ]
  },
  {
   "cell_type": "markdown",
   "metadata": {},
   "source": [
    "The PageRank values for the top 5 nodes indicate their importance and influence within the Wikipedia voting network:\n",
    "\n",
    "1. **Node 4037**: Leading with a PageRank of 0.0046, this node is considered the most influential based on the algorithm's assessment of its connectivity and the importance of nodes linking to it. Nodes with higher PageRank scores are not only well-connected but are also linked to by other nodes with high PageRank scores, suggesting they have significant influence and visibility in the network.\n",
    "\n",
    "2. **Node 15**: Following closely with a PageRank of 0.0037, this node ranks second among the top nodes. Its high PageRank indicates it plays a crucial role in information dissemination or influence propagation within the network.\n",
    "\n",
    "3. **Node 6634**: With a PageRank of 0.0035, this node demonstrates substantial connectivity and influence, positioning it as a key player in the network's structure and dynamics.\n",
    "\n",
    "4. **Node 2625**: This node has a PageRank of 0.0033, underscoring its importance in the network's hierarchy and its ability to influence other nodes.\n",
    "\n",
    "5. **Node 2398**: Rounding out the top 5, this node has a PageRank of 0.0026. While slightly lower than the others in the top 5, its PageRank score still signifies significant influence and connectivity within the network."
   ]
  },
  {
   "cell_type": "code",
   "execution_count": 18,
   "metadata": {},
   "outputs": [
    {
     "name": "stdout",
     "output_type": "stream",
     "text": [
      "Top 5 nodes by Katz centrality:\n",
      "Node 4037: Katz Centrality = 0.0704\n",
      "Node 2398: Katz Centrality = 0.0619\n",
      "Node 15: Katz Centrality = 0.0603\n",
      "Node 2625: Katz Centrality = 0.0576\n",
      "Node 1297: Katz Centrality = 0.0544\n"
     ]
    }
   ],
   "source": [
    "# Katz centrality\n",
    "katz_centrality = nx.katz_centrality(G, alpha=0.01, beta=1.0)\n",
    "sorted_katz_centrality = sorted(katz_centrality.items(), key=lambda x: x[1], reverse=True)\n",
    "print(\"Top 5 nodes by Katz centrality:\")\n",
    "for node, centrality in sorted_katz_centrality[:5]:\n",
    "    print(f\"Node {node}: Katz Centrality = {centrality:.4f}\")\n"
   ]
  },
  {
   "cell_type": "markdown",
   "metadata": {},
   "source": [
    "The Katz centrality values for the top 5 nodes reveal their prominence and influence within the Wikipedia voting network:\n",
    "\n",
    "1. **Node 4037**: Leading with a Katz centrality of 0.0704, this node is identified as the most central based on its direct connections and the connections of nodes it influences. Katz centrality measures the influence of a node considering both direct connections and connections through other nodes, emphasizing its role as a hub of influence in the network.\n",
    "\n",
    "2. **Node 2398**: Following closely with a Katz centrality of 0.0619, this node ranks second among the top centrality nodes. It demonstrates significant connectivity and influence, critical for maintaining communication and cohesion within the network.\n",
    "\n",
    "3. **Node 15**: With a Katz centrality of 0.0603, this node underscores its importance in the network's structure. Its centrality indicates it is well-positioned to propagate information or influence throughout the network effectively.\n",
    "\n",
    "4. **Node 2625**: This node has a Katz centrality of 0.0576, highlighting its substantial influence and connectivity within the network's hierarchy. It plays a pivotal role in facilitating interactions and maintaining community dynamics.\n",
    "\n",
    "5. **Node 1297**: Rounding out the top 5, this node has a Katz centrality of 0.0544. While slightly lower in centrality compared to the others, its score signifies significant influence and connectivity within the network.\n"
   ]
  },
  {
   "cell_type": "markdown",
   "metadata": {},
   "source": [
    "### **Observation:**"
   ]
  },
  {
   "cell_type": "markdown",
   "metadata": {},
   "source": [
    "**Overall Evaluation: The graph analysis based on these centrality measures indicates a robust and structured network with identifiable hubs of influence and connectivity. Nodes like 4037, 2565, and others consistently appear across multiple centrality measures, highlighting their pivotal roles in the network. The network exhibits both local clustering and efficient global communication pathways, essential for community engagement and decision-making processes within Wikipedia's voting system. Understanding these centrality metrics provides valuable insights into network dynamics, user influence, and community cohesion, crucial for effective governance and administration on Wikipedia.**"
   ]
  },
  {
   "cell_type": "code",
   "execution_count": 19,
   "metadata": {},
   "outputs": [
    {
     "data": {
      "text/html": [
       "<div>\n",
       "<style scoped>\n",
       "    .dataframe tbody tr th:only-of-type {\n",
       "        vertical-align: middle;\n",
       "    }\n",
       "\n",
       "    .dataframe tbody tr th {\n",
       "        vertical-align: top;\n",
       "    }\n",
       "\n",
       "    .dataframe thead th {\n",
       "        text-align: right;\n",
       "    }\n",
       "</style>\n",
       "<table border=\"1\" class=\"dataframe\">\n",
       "  <thead>\n",
       "    <tr style=\"text-align: right;\">\n",
       "      <th></th>\n",
       "      <th>Degree Centrality</th>\n",
       "      <th>Betweenness Centrality</th>\n",
       "      <th>Closeness Centrality</th>\n",
       "      <th>Eigenvector Centrality</th>\n",
       "      <th>PageRank</th>\n",
       "      <th>Katz Centrality</th>\n",
       "    </tr>\n",
       "  </thead>\n",
       "  <tbody>\n",
       "    <tr>\n",
       "      <th>0</th>\n",
       "      <td>2565</td>\n",
       "      <td>2565</td>\n",
       "      <td>4037</td>\n",
       "      <td>2398</td>\n",
       "      <td>4037</td>\n",
       "      <td>4037</td>\n",
       "    </tr>\n",
       "    <tr>\n",
       "      <th>1</th>\n",
       "      <td>1549</td>\n",
       "      <td>1549</td>\n",
       "      <td>15</td>\n",
       "      <td>4037</td>\n",
       "      <td>15</td>\n",
       "      <td>2398</td>\n",
       "    </tr>\n",
       "    <tr>\n",
       "      <th>2</th>\n",
       "      <td>766</td>\n",
       "      <td>15</td>\n",
       "      <td>2398</td>\n",
       "      <td>15</td>\n",
       "      <td>6634</td>\n",
       "      <td>15</td>\n",
       "    </tr>\n",
       "    <tr>\n",
       "      <th>3</th>\n",
       "      <td>11</td>\n",
       "      <td>72</td>\n",
       "      <td>1549</td>\n",
       "      <td>4191</td>\n",
       "      <td>2625</td>\n",
       "      <td>2625</td>\n",
       "    </tr>\n",
       "    <tr>\n",
       "      <th>4</th>\n",
       "      <td>1166</td>\n",
       "      <td>737</td>\n",
       "      <td>2535</td>\n",
       "      <td>2625</td>\n",
       "      <td>2398</td>\n",
       "      <td>1297</td>\n",
       "    </tr>\n",
       "  </tbody>\n",
       "</table>\n",
       "</div>"
      ],
      "text/plain": [
       "   Degree Centrality  Betweenness Centrality  Closeness Centrality  \\\n",
       "0               2565                    2565                  4037   \n",
       "1               1549                    1549                    15   \n",
       "2                766                      15                  2398   \n",
       "3                 11                      72                  1549   \n",
       "4               1166                     737                  2535   \n",
       "\n",
       "   Eigenvector Centrality  PageRank  Katz Centrality  \n",
       "0                    2398      4037             4037  \n",
       "1                    4037        15             2398  \n",
       "2                      15      6634               15  \n",
       "3                    4191      2625             2625  \n",
       "4                    2625      2398             1297  "
      ]
     },
     "execution_count": 19,
     "metadata": {},
     "output_type": "execute_result"
    }
   ],
   "source": [
    "\n",
    "\n",
    "# Combine centrality measures into a DataFrame\n",
    "centrality_measures = pd.DataFrame({\n",
    "    'Degree Centrality': pd.Series(degree_centrality),\n",
    "    'Betweenness Centrality': pd.Series(betweenness_centrality),\n",
    "    'Closeness Centrality': pd.Series(closeness_centrality),\n",
    "    'Eigenvector Centrality': pd.Series(eigenvector_centrality),\n",
    "    'PageRank': pd.Series(pagerank),\n",
    "    'Katz Centrality': pd.Series(katz_centrality)\n",
    "})\n",
    "\n",
    "# Display top nodes for each measure\n",
    "top_central_nodes = centrality_measures.apply(lambda x: x.nlargest(5).index)\n",
    "top_central_nodes"
   ]
  },
  {
   "cell_type": "markdown",
   "metadata": {},
   "source": [
    "<p style=\"background-color:#D8BFD8; color: #333333; font-size: 200%; text-align: left; padding-left: 20px;\"> Prediction:</p>\n"
   ]
  },
  {
   "cell_type": "markdown",
   "metadata": {},
   "source": [
    "- Defining the prediction task.\n",
    "- Setting up a machine learning experiment and using the Node2Vec approach to embedd the graph information.\n",
    "- Optimizing and running two ML algorithms on the embedded data and comparing the performance to a simple baseline.\n",
    "- Selecting one final model."
   ]
  },
  {
   "cell_type": "markdown",
   "metadata": {},
   "source": [
    "**Libraries:**"
   ]
  },
  {
   "cell_type": "code",
   "execution_count": 20,
   "metadata": {},
   "outputs": [],
   "source": [
    "import networkx as nx\n",
    "import numpy as np\n",
    "from node2vec import Node2Vec\n",
    "from edge_split import EdgeSplitter\n",
    "from sklearn.model_selection import GridSearchCV\n",
    "from sklearn.metrics import accuracy_score, roc_auc_score\n",
    "from sklearn.linear_model import LogisticRegression\n",
    "from sklearn.ensemble import RandomForestClassifier\n",
    "from sklearn.svm import SVC\n",
    "import pandas as pd\n",
    "from sklearn.metrics import precision_score, recall_score, f1_score\n",
    "from xgboost import XGBClassifier\n",
    "from sklearn.neighbors import KNeighborsClassifier\n",
    "from sklearn.naive_bayes import GaussianNB\n"
   ]
  },
  {
   "cell_type": "markdown",
   "metadata": {},
   "source": [
    "### **Node2Vec embeddings**"
   ]
  },
  {
   "cell_type": "code",
   "execution_count": 21,
   "metadata": {},
   "outputs": [
    {
     "data": {
      "application/vnd.jupyter.widget-view+json": {
       "model_id": "6cfd35b91e98478c8a8277b0bb4368c0",
       "version_major": 2,
       "version_minor": 0
      },
      "text/plain": [
       "Computing transition probabilities:   0%|          | 0/7115 [00:00<?, ?it/s]"
      ]
     },
     "metadata": {},
     "output_type": "display_data"
    }
   ],
   "source": [
    "node2vec = Node2Vec(G, dimensions=32, walk_length=10, num_walks=50, workers=4)\n",
    "model = node2vec.fit(window=5, min_count=1, batch_words=4)\n",
    "node_embeddings = model.wv\n"
   ]
  },
  {
   "cell_type": "markdown",
   "metadata": {},
   "source": [
    "### **split the original graph into train, validation, and test sets**"
   ]
  },
  {
   "cell_type": "code",
   "execution_count": 22,
   "metadata": {},
   "outputs": [
    {
     "name": "stdout",
     "output_type": "stream",
     "text": [
      "** Sampled 10368 positive and 10368 negative edges. **\n",
      "** Sampled 9332 positive and 9332 negative edges. **\n"
     ]
    }
   ],
   "source": [
    "\n",
    "# Initialize EdgeSplitter with the original graph G\n",
    "edgeSplitter = EdgeSplitter(G)\n",
    "\n",
    "# Split the graph into train and test sets\n",
    "graph_without_test, samples_test, labels_test = edgeSplitter.train_test_split(p=0.1, method='global', seed=1)\n",
    "\n",
    "# Initialize EdgeSplitter with the reduced graph without test edges and original graph G\n",
    "edgeSplitter = EdgeSplitter(graph_without_test, G)\n",
    "\n",
    "# Further split into train and validation sets\n",
    "graph_without_test_and_train, samples_train, labels_train = edgeSplitter.train_test_split(p=0.1, method='global', seed=1)\n"
   ]
  },
  {
   "cell_type": "code",
   "execution_count": 23,
   "metadata": {},
   "outputs": [],
   "source": [
    "\n",
    "def get_edge_features(edge_list, node_embeddings, embedding_dim=32):\n",
    "    features = []\n",
    "    for edge in edge_list:\n",
    "        node1, node2 = edge\n",
    "        if node1 in node_embeddings and node2 in node_embeddings:\n",
    "            feature_vector = node_embeddings[node1] * node_embeddings[node2]\n",
    "            if feature_vector.shape[0] != embedding_dim:\n",
    "                feature_vector = np.zeros(embedding_dim)\n",
    "            features.append(feature_vector)\n",
    "        else:\n",
    "            features.append(np.zeros(embedding_dim))  # Handle missing embeddings by padding with zeros\n",
    "    \n",
    "    features_array = np.array(features)\n",
    "    return features_array\n"
   ]
  },
  {
   "cell_type": "markdown",
   "metadata": {},
   "source": [
    "### **Create feature vectors**"
   ]
  },
  {
   "cell_type": "code",
   "execution_count": 24,
   "metadata": {},
   "outputs": [],
   "source": [
    "# Create feature vectors for training and testing\n",
    "X_train = get_edge_features(samples_train, node_embeddings)\n",
    "y_train = np.array(labels_train)\n",
    "X_test = get_edge_features(samples_test, node_embeddings)\n",
    "y_test = np.array(labels_test)\n"
   ]
  },
  {
   "cell_type": "markdown",
   "metadata": {},
   "source": [
    "### **ML models**"
   ]
  },
  {
   "cell_type": "code",
   "execution_count": 25,
   "metadata": {},
   "outputs": [],
   "source": [
    "\n",
    "# Initialize models\n",
    "lr = LogisticRegression()  #baseline\n",
    "rf = RandomForestClassifier(max_depth=None, min_samples_split=2, min_samples_leaf=2,random_state=42 )\n",
    "svm = SVC(probability=True, random_state=42, C=10, gamma='auto',kernel='linear')\n",
    "\n",
    "xgb = XGBClassifier(random_state=42, n_estimators=100, learning_rate=0.1, max_depth=6)\n",
    "knn = KNeighborsClassifier(n_neighbors=5, algorithm='auto', leaf_size=30, p=2, metric='minkowski')\n",
    "nb = GaussianNB(var_smoothing=1e-9)"
   ]
  },
  {
   "cell_type": "markdown",
   "metadata": {},
   "source": [
    "### **Cross Validation**"
   ]
  },
  {
   "cell_type": "code",
   "execution_count": null,
   "metadata": {},
   "outputs": [],
   "source": [
    "from sklearn.model_selection import RandomizedSearchCV\n",
    "\n",
    "# Random Forest\n",
    "param_grid_rf = {\n",
    "    'n_estimators': [100, 200],\n",
    "    'max_depth': [None, 10, 20],\n",
    "    'min_samples_split': [2, 5],\n",
    "    'min_samples_leaf': [1, 2]\n",
    "}\n",
    "random_search_rf = RandomizedSearchCV(estimator=rf, param_distributions=param_grid_rf, n_iter=20, cv=5, scoring='roc_auc', n_jobs=-1, random_state=42)\n",
    "random_search_rf.fit(X_train, y_train)\n",
    "\n",
    "# SVM\n",
    "param_grid_svm = {\n",
    "    'C': [0.1, 1, 10],\n",
    "    'kernel': ['linear', 'rbf'],\n",
    "    'gamma': ['scale', 'auto']\n",
    "}\n",
    "random_search_svm = RandomizedSearchCV(estimator=svm, param_distributions=param_grid_svm, n_iter=20, cv=5, scoring='roc_auc', n_jobs=-1, random_state=42)\n",
    "random_search_svm.fit(X_train, y_train)\n",
    "\n",
    "best_params_rf = random_search_rf.best_params_\n",
    "best_score_rf = random_search_rf.best_score_\n",
    "\n",
    "best_params_svm = random_search_svm.best_params_\n",
    "best_score_svm = random_search_svm.best_score_\n",
    "\n",
    "print(\"Best Random Forest parameters:\", best_params_rf)\n",
    "print(\"Best Random Forest AUC:\", best_score_rf)\n",
    "print(\"Best SVM parameters:\", best_params_svm)\n",
    "print(\"Best SVM AUC:\", best_score_svm)\n"
   ]
  },
  {
   "cell_type": "markdown",
   "metadata": {},
   "source": [
    "#### In the remeining part of the experiment the best hyperparameters generated by CV are manually utilized due to the high expense of running CV multiple times while working on the experiment."
   ]
  },
  {
   "attachments": {
    "image.png": {
     "image/png": "[encoded data removed]"
    }
   },
   "cell_type": "markdown",
   "metadata": {},
   "source": [
    "![image.png](attachment:image.png)"
   ]
  },
  {
   "cell_type": "markdown",
   "metadata": {},
   "source": [
    "### **Evaluation function**"
   ]
  },
  {
   "cell_type": "code",
   "execution_count": null,
   "metadata": {},
   "outputs": [],
   "source": [
    "# Function to evaluate model performance\n",
    "def evaluate_model(model, X_train, y_train, X_test, y_test):\n",
    "    model.fit(X_train, y_train)\n",
    "    y_pred = model.predict(X_test)\n",
    "    y_pred_proba = model.predict_proba(X_test)[:, 1] if hasattr(model, 'predict_proba') else [0] * len(y_test)\n",
    "    \n",
    "    accuracy = accuracy_score(y_test, y_pred)\n",
    "    roc_auc = roc_auc_score(y_test, y_pred_proba)\n",
    "    precision = precision_score(y_test, y_pred)\n",
    "    recall = recall_score(y_test, y_pred)\n",
    "    f1 = f1_score(y_test, y_pred)\n",
    "    \n",
    "    return accuracy, roc_auc, precision, recall, f1\n"
   ]
  },
  {
   "cell_type": "markdown",
   "metadata": {},
   "source": [
    "### **Results Generated**"
   ]
  },
  {
   "cell_type": "code",
   "execution_count": null,
   "metadata": {},
   "outputs": [
    {
     "name": "stdout",
     "output_type": "stream",
     "text": [
      "                 Model  Accuracy   ROC AUC  Precision    Recall  F1 Score\n",
      "0  Logistic Regression  0.568866  0.602885   0.564980  0.598765  0.581382\n",
      "1        Random Forest  0.614921  0.670765   0.595084  0.719232  0.651295\n",
      "2                  SVM  0.573736  0.602532   0.560363  0.684510  0.616246\n",
      "3              XGBoost  0.607398  0.652669   0.596549  0.663580  0.628282\n",
      "4                 k-NN  0.515287  0.485274   0.511391  0.686343  0.586089\n",
      "5          Naive Bayes  0.555507  0.605084   0.580546  0.400077  0.473705\n"
     ]
    }
   ],
   "source": [
    "\n",
    "models = {\n",
    "    'Logistic Regression': lr,\n",
    "    'Random Forest': rf,\n",
    "    'SVM': svm,\n",
    "    'XGBoost': xgb,\n",
    "    'k-NN': knn,\n",
    "    'Naive Bayes': nb\n",
    "}\n",
    "\n",
    "results = []\n",
    "for model_name, model in models.items():\n",
    "    acc, auc, prec, rec, f1 = evaluate_model(model, X_train, y_train, X_test, y_test)\n",
    "    results.append({\n",
    "        'Model': model_name,\n",
    "        'Accuracy': acc,\n",
    "        'ROC AUC': auc,\n",
    "        'Precision': prec,\n",
    "        'Recall': rec,\n",
    "        'F1 Score': f1\n",
    "    })\n",
    "\n",
    "results_df = pd.DataFrame(results)\n",
    "print(results_df)\n",
    "\n"
   ]
  },
  {
   "cell_type": "markdown",
   "metadata": {},
   "source": [
    "<p style=\"background-color:#D8BFD8; color: #333333; font-size: 200%; text-align: left; padding-left: 20px;\"> Task 7– Conclusions and Future Work</p>"
   ]
  },
  {
   "cell_type": "markdown",
   "metadata": {},
   "source": [
    "### 1. Summary\n",
    "\n",
    "The models were trained to predict potential successful candidates for Wikipedia administrator elections. Here are the achieved results:\n",
    "The **Random Forest** model performed the best, achieving the highest accuracy, ROC AUC, and F1 score, indicating it is the most effective model for this task.\n",
    "\n",
    "### 2. Comparing results to the expected or desired outcomes in the original plan.\n",
    "\n",
    "The original plan aimed to optimize the administrator election process by accurately predicting successful candidates. The Random Forest model, with its highest performance metrics, aligns well with these expectations, demonstrating the capability to predict potential administrators effectively. However, the overall accuracy levels indicate room for improvement to meet higher standards of prediction reliability.\n",
    "\n",
    "### 3. The generated value\n",
    "\n",
    "The analysis and selected prediction algorithms help the organization by providing a data-driven approach to identify promising candidates for Wikipedia's administrator elections. This streamlines the election process, reduces the time and effort required for community discussions, and ensures that capable users are promoted efficiently. This improves the quality and maintenance of Wikipedia, enhancing user experience and fostering community trust.\n",
    "\n",
    "### 4. Recommended course of action for the organization.\n",
    "\n",
    "The organization should implement the Random Forest model for predicting potential administrators due to its superior performance. Additionally, continuous monitoring and refinement of the model should be conducted based on community feedback and new data. Integrating this prediction system with Wikipedia's adminship request process will streamline candidate selection and improve overall election efficiency.\n",
    "\n",
    "### 5. Reflect on limitations and possible pitfalls of using these results.\n",
    "\n",
    "Potential limitations include the risk of overfitting with complex models like Random Forests, the variability of model performance with different datasets, and the need for high-quality, comprehensive data for training. There's also a challenge in ensuring the models remain unbiased and fair, particularly in a community-driven platform like Wikipedia.\n",
    "\n",
    "### 6. Methodology\n",
    "\n",
    "The methodology involved graph analysis, feature engineering, and training multiple models. While effective, improvements could include:\n",
    "- **Feature Engineering**: Incorporating more sophisticated features related to user behavior and interactions.\n",
    "- **Hyperparameter Tuning**: Using more advanced techniques like cross-validation, which was conducted once but discarded later due to computational expense.\n",
    "\n",
    "### 7. Future work\n",
    "\n",
    "- **Explore Graph Neural Networks (GNNs)**: Given their capability to handle graph-structured data effectively, GNNs could potentially improve prediction accuracy.\n",
    "- **Temporal Dynamics**: Incorporating temporal aspects of user interactions to capture changes over time.\n",
    "- **Ensemble Methods**: Develop ensemble methods that combine the strengths of different models for improved predictions.\n",
    "- **Scalability**: Optimize the computational efficiency of the models to handle larger datasets more effectively.\n",
    "- **Bias Mitigation**: Implement techniques to identify and mitigate potential biases in the prediction models."
   ]
  }
 ],
 "metadata": {
  "kernelspec": {
   "display_name": "venvAni",
   "language": "python",
   "name": "python3"
  },
  "language_info": {
   "codemirror_mode": {
    "name": "ipython",
    "version": 3
   },
   "file_extension": ".py",
   "mimetype": "text/x-python",
   "name": "python",
   "nbconvert_exporter": "python",
   "pygments_lexer": "ipython3",
   "version": "3.11.6"
  }
 },
 "nbformat": 4,
 "nbformat_minor": 2
}
